{
 "cells": [
  {
   "cell_type": "markdown",
   "id": "08e08c14-ad14-4ee3-bfda-f45ac40abfe4",
   "metadata": {},
   "source": [
    "Keywords: **Multi-criteria decision analysis**, **TOPSIS**, **COPRAS**"
   ]
  },
  {
   "cell_type": "code",
   "execution_count": 1,
   "id": "c24f962b-45d1-4688-9771-ba88c123bc89",
   "metadata": {},
   "outputs": [],
   "source": [
    "import numpy as np"
   ]
  },
  {
   "cell_type": "markdown",
   "id": "e80ee4bc-552b-4deb-b2f9-086c5ee6efbf",
   "metadata": {},
   "source": [
    "### TOPSIS"
   ]
  },
  {
   "cell_type": "markdown",
   "id": "ffe1bc19-6331-4604-aec7-b8e5db44be4e",
   "metadata": {},
   "source": [
    "#### Step-1: Evaluation matrix\n",
    "- Features\n",
    "- Weights\n",
    "- Criteria"
   ]
  },
  {
   "cell_type": "code",
   "execution_count": 2,
   "id": "7e71883d-f19c-4e60-bfdc-0390a6b9d7cb",
   "metadata": {},
   "outputs": [],
   "source": [
    "evaluation_matrix = np.array([\n",
    "    [5, 250, 1.3],\n",
    "    [7, 220, 1.2],\n",
    "    [8, 300, 1.1]\n",
    "])\n",
    "\n",
    "weights = [1, 1, 1]\n",
    "\n",
    "criteria = [False, True, False]"
   ]
  },
  {
   "cell_type": "code",
   "execution_count": 3,
   "id": "3dc6759c-e98a-4f92-8660-7f1eeef3a724",
   "metadata": {},
   "outputs": [],
   "source": [
    "height, width = evaluation_matrix.shape"
   ]
  },
  {
   "cell_type": "markdown",
   "id": "6fa886e6-a377-4c54-ab6f-d2f1310177db",
   "metadata": {},
   "source": [
    "#### Step-2: Normalisation\n",
    "\n",
    "![Normalisation](https://www.linkpicture.com/q/topsis_1.png)"
   ]
  },
  {
   "cell_type": "code",
   "execution_count": 4,
   "id": "94c82475-9341-4c3e-b79d-2b8f716d93ed",
   "metadata": {},
   "outputs": [],
   "source": [
    "sqrt_sum = (evaluation_matrix ** 2).sum(axis=0)\n",
    "    \n",
    "normalized = evaluation_matrix / sqrt_sum ** 0.5"
   ]
  },
  {
   "cell_type": "code",
   "execution_count": 5,
   "id": "cf9d6ff3-caaf-486b-8783-3a38ede8c93d",
   "metadata": {},
   "outputs": [
    {
     "data": {
      "text/plain": [
       "array([[0.42562827, 0.55776344, 0.62401997],\n",
       "       [0.59587957, 0.49083182, 0.57601843],\n",
       "       [0.68100522, 0.66931612, 0.5280169 ]])"
      ]
     },
     "execution_count": 5,
     "metadata": {},
     "output_type": "execute_result"
    }
   ],
   "source": [
    "normalized"
   ]
  },
  {
   "cell_type": "markdown",
   "id": "ab2cf915-f087-44d7-aea6-9b666412d19f",
   "metadata": {},
   "source": [
    "#### Step-3: Weighted matrix\n",
    "\n",
    "![Weighted matrix](https://www.linkpicture.com/q/topsis_2.png)"
   ]
  },
  {
   "cell_type": "code",
   "execution_count": 6,
   "id": "4be27624-5afe-4f99-94a0-54ed6bb1f64b",
   "metadata": {},
   "outputs": [],
   "source": [
    "weighted = normalized * weights"
   ]
  },
  {
   "cell_type": "code",
   "execution_count": 7,
   "id": "5d2cfd9f-a5fa-4e9d-aea2-cfe26c5c3b76",
   "metadata": {},
   "outputs": [
    {
     "data": {
      "text/plain": [
       "array([[0.42562827, 0.55776344, 0.62401997],\n",
       "       [0.59587957, 0.49083182, 0.57601843],\n",
       "       [0.68100522, 0.66931612, 0.5280169 ]])"
      ]
     },
     "execution_count": 7,
     "metadata": {},
     "output_type": "execute_result"
    }
   ],
   "source": [
    "weighted"
   ]
  },
  {
   "cell_type": "markdown",
   "id": "68887216-bb8d-47f6-8bf4-a240d07ac905",
   "metadata": {},
   "source": [
    "#### Step-4: Alternatives\n",
    "\n",
    "![Alternatives](https://www.linkpicture.com/q/topsis_3.png)"
   ]
  },
  {
   "cell_type": "code",
   "execution_count": 8,
   "id": "4624b363-62d1-49f7-ae16-ca0052134cac",
   "metadata": {},
   "outputs": [],
   "source": [
    "worst = np.zeros(width)\n",
    "best = np.zeros(width)\n",
    "\n",
    "for i in range(width):\n",
    "    if criteria[i]:\n",
    "        worst[i] = min(weighted[:, i])\n",
    "        best[i] = max(weighted[:, i])\n",
    "        continue\n",
    "    \n",
    "    worst[i] = max(weighted[:, i])\n",
    "    best[i] = min(weighted[:, i])"
   ]
  },
  {
   "cell_type": "code",
   "execution_count": 9,
   "id": "bd36583a-98c3-435c-88bf-90da30a5861d",
   "metadata": {},
   "outputs": [
    {
     "data": {
      "text/plain": [
       "array([0.42562827, 0.66931612, 0.5280169 ])"
      ]
     },
     "execution_count": 9,
     "metadata": {},
     "output_type": "execute_result"
    }
   ],
   "source": [
    "best"
   ]
  },
  {
   "cell_type": "code",
   "execution_count": 10,
   "id": "106a6492-0286-423e-b68e-0e5f89f5f400",
   "metadata": {},
   "outputs": [
    {
     "data": {
      "text/plain": [
       "array([0.68100522, 0.49083182, 0.62401997])"
      ]
     },
     "execution_count": 10,
     "metadata": {},
     "output_type": "execute_result"
    }
   ],
   "source": [
    "worst"
   ]
  },
  {
   "cell_type": "markdown",
   "id": "76d6b0d9-65dd-4b27-85fa-4ac5d55bfb57",
   "metadata": {},
   "source": [
    "#### Step-5: Distances\n",
    "\n",
    "- Euclidean distance (L2 distance)\n",
    "\n",
    "![Worst Distance](https://www.linkpicture.com/q/topsis_4.png)\n",
    "\n",
    "![Best Distance](https://www.linkpicture.com/q/topsis_5.png)"
   ]
  },
  {
   "cell_type": "code",
   "execution_count": 11,
   "id": "6d1c563f-5f3f-44d4-a411-b497cd5a71b9",
   "metadata": {},
   "outputs": [],
   "source": [
    "worst_distance = np.sqrt(np.sum((weighted - worst) ** 2, axis=1))\n",
    "best_distance = np.sqrt(np.sum((weighted - best) ** 2, axis=1))"
   ]
  },
  {
   "cell_type": "code",
   "execution_count": 12,
   "id": "cf852796-bd36-4132-a618-fdc752d3688f",
   "metadata": {},
   "outputs": [
    {
     "data": {
      "text/plain": [
       "array([0.26400233, 0.09772678, 0.20266533])"
      ]
     },
     "execution_count": 12,
     "metadata": {},
     "output_type": "execute_result"
    }
   ],
   "source": [
    "worst_distance"
   ]
  },
  {
   "cell_type": "code",
   "execution_count": 13,
   "id": "c28b0c7a-3b19-4255-ab6e-b70e4a7a7cd7",
   "metadata": {},
   "outputs": [
    {
     "data": {
      "text/plain": [
       "array([0.14717538, 0.25128928, 0.25537696])"
      ]
     },
     "execution_count": 13,
     "metadata": {},
     "output_type": "execute_result"
    }
   ],
   "source": [
    "best_distance"
   ]
  },
  {
   "cell_type": "markdown",
   "id": "977006d4-5daf-4c3a-9c08-87ae798cc818",
   "metadata": {},
   "source": [
    "#### Step-6: Similarities\n",
    "\n",
    "![Similarity](https://www.linkpicture.com/q/topsis_6.png)\n",
    "\n",
    "- s_iw=1 if and only if the alternative solution has the best condition\n",
    "- s_iw=0 if and only if the alternative solution has the worst condition"
   ]
  },
  {
   "cell_type": "code",
   "execution_count": 14,
   "id": "56faf0b1-172a-4528-aedd-09f8277f22cb",
   "metadata": {},
   "outputs": [],
   "source": [
    "worst_similarity = (\n",
    "    worst_distance / (worst_distance + best_distance)\n",
    ")\n",
    "\n",
    "best_similarity = (\n",
    "    best_distance / (worst_distance + best_distance)\n",
    ")"
   ]
  },
  {
   "cell_type": "code",
   "execution_count": 15,
   "id": "fd88cb23-d8c4-4389-aa1a-4fb0950ff0cb",
   "metadata": {},
   "outputs": [
    {
     "data": {
      "text/plain": [
       "array([0.35793618, 0.71999345, 0.55754014])"
      ]
     },
     "execution_count": 15,
     "metadata": {},
     "output_type": "execute_result"
    }
   ],
   "source": [
    "best_similarity"
   ]
  },
  {
   "cell_type": "code",
   "execution_count": 16,
   "id": "7deed14b-a3b7-4d4f-8366-01541908fbe6",
   "metadata": {},
   "outputs": [
    {
     "data": {
      "text/plain": [
       "array([0.64206382, 0.28000655, 0.44245986])"
      ]
     },
     "execution_count": 16,
     "metadata": {},
     "output_type": "execute_result"
    }
   ],
   "source": [
    "worst_similarity"
   ]
  },
  {
   "cell_type": "markdown",
   "id": "49b39c1d-f50c-4f32-b78f-e94c3b3537bd",
   "metadata": {},
   "source": [
    "#### Step-7: Ranking"
   ]
  },
  {
   "cell_type": "code",
   "execution_count": 17,
   "id": "ff89c047-738d-40ef-9ec3-2029336a0f6f",
   "metadata": {},
   "outputs": [
    {
     "data": {
      "text/plain": [
       "array([1, 3, 2])"
      ]
     },
     "execution_count": 17,
     "metadata": {},
     "output_type": "execute_result"
    }
   ],
   "source": [
    "best_similarity.argsort() + 1"
   ]
  },
  {
   "cell_type": "markdown",
   "id": "1e45f517-7824-436b-9830-6e4aec6f5c49",
   "metadata": {},
   "source": [
    "### COPRAS"
   ]
  },
  {
   "cell_type": "markdown",
   "id": "d43b0f90-3768-469a-8385-edb5f508f41d",
   "metadata": {},
   "source": [
    "#### Step-1: Evaluation matrix\n",
    "- Features\n",
    "- Weights\n",
    "- Criteria"
   ]
  },
  {
   "cell_type": "code",
   "execution_count": 18,
   "id": "237d210c-55da-4e96-b258-32103d6055b1",
   "metadata": {},
   "outputs": [],
   "source": [
    "evaluation_matrix = np.array([\n",
    "    [5, 250, 1.3],\n",
    "    [7, 220, 1.1],\n",
    "    [8, 300, 1.2]\n",
    "])\n",
    "\n",
    "types = np.array([1 if c else -1 for c in criteria])\n",
    "weights = [1, 1, 1]"
   ]
  },
  {
   "cell_type": "markdown",
   "id": "9b871342-b6a9-474c-b594-945c75e7eff8",
   "metadata": {},
   "source": [
    "#### Step-2: Normalisation\n",
    "\n",
    "![Normalisation](https://www.linkpicture.com/q/copras_1.png)"
   ]
  },
  {
   "cell_type": "code",
   "execution_count": 19,
   "id": "bca2123a-045b-4931-829c-28bfb24ceed8",
   "metadata": {},
   "outputs": [],
   "source": [
    "normalized = evaluation_matrix / np.sum(evaluation_matrix, axis=0)"
   ]
  },
  {
   "cell_type": "code",
   "execution_count": 20,
   "id": "7a5e17d6-728a-4e69-ae92-749609012f87",
   "metadata": {},
   "outputs": [
    {
     "data": {
      "text/plain": [
       "array([[0.25      , 0.32467532, 0.36111111],\n",
       "       [0.35      , 0.28571429, 0.30555556],\n",
       "       [0.4       , 0.38961039, 0.33333333]])"
      ]
     },
     "execution_count": 20,
     "metadata": {},
     "output_type": "execute_result"
    }
   ],
   "source": [
    "normalized"
   ]
  },
  {
   "cell_type": "markdown",
   "id": "0b003234-9417-4167-a1b0-d1113cd46848",
   "metadata": {
    "tags": []
   },
   "source": [
    "#### Step-3: Weighted matrix\n",
    "\n",
    "![Weighted matrix](https://www.linkpicture.com/q/copras_2.png)"
   ]
  },
  {
   "cell_type": "code",
   "execution_count": 21,
   "id": "17505aef-5776-4d80-8f5c-79b1d3bce638",
   "metadata": {},
   "outputs": [],
   "source": [
    "weighted = normalized * weights"
   ]
  },
  {
   "cell_type": "code",
   "execution_count": 22,
   "id": "4902ac6f-b301-42e3-b76b-ee288a7f3c4a",
   "metadata": {},
   "outputs": [
    {
     "data": {
      "text/plain": [
       "array([[0.25      , 0.32467532, 0.36111111],\n",
       "       [0.35      , 0.28571429, 0.30555556],\n",
       "       [0.4       , 0.38961039, 0.33333333]])"
      ]
     },
     "execution_count": 22,
     "metadata": {},
     "output_type": "execute_result"
    }
   ],
   "source": [
    "weighted"
   ]
  },
  {
   "cell_type": "markdown",
   "id": "5bf79d71-a76c-49f1-b417-fcb2595d4cf7",
   "metadata": {},
   "source": [
    "#### Step-4: Calculate maximization and minimization index\n",
    "![Minimization](https://www.linkpicture.com/q/copras_3.png)\n",
    "![Maximization](https://www.linkpicture.com/q/copras_4.png)"
   ]
  },
  {
   "cell_type": "code",
   "execution_count": 23,
   "id": "9679a6ee-579f-4137-b7d4-61132202aedf",
   "metadata": {},
   "outputs": [],
   "source": [
    "sp = np.sum(weighted[:, types == 1], axis=1)\n",
    "sm = np.sum(weighted[:, types == -1], axis=1)"
   ]
  },
  {
   "cell_type": "code",
   "execution_count": 24,
   "id": "86b4772c-d2ca-4d5a-aa7b-d992a3fd37a3",
   "metadata": {},
   "outputs": [
    {
     "data": {
      "text/plain": [
       "array([0.32467532, 0.28571429, 0.38961039])"
      ]
     },
     "execution_count": 24,
     "metadata": {},
     "output_type": "execute_result"
    }
   ],
   "source": [
    "sp"
   ]
  },
  {
   "cell_type": "code",
   "execution_count": 25,
   "id": "c69439c1-5d84-4c47-b5f9-58a968652371",
   "metadata": {},
   "outputs": [
    {
     "data": {
      "text/plain": [
       "array([0.61111111, 0.65555556, 0.73333333])"
      ]
     },
     "execution_count": 25,
     "metadata": {},
     "output_type": "execute_result"
    }
   ],
   "source": [
    "sm"
   ]
  },
  {
   "cell_type": "markdown",
   "id": "b2f6100f-a202-4e41-813e-9d8a0e396986",
   "metadata": {},
   "source": [
    "#### Step-5: Calculation of the relative weight of each aleternative\n",
    "![Relative Weight](https://www.linkpicture.com/q/copras_5.png)"
   ]
  },
  {
   "cell_type": "code",
   "execution_count": 26,
   "id": "0b99536f-8e7b-41d2-bf9b-36a1f00348bf",
   "metadata": {},
   "outputs": [],
   "source": [
    "Q = sp + ((np.min(sm) * np.sum(sm)) / (sm * np.sum(np.min(sp) / sp)))"
   ]
  },
  {
   "cell_type": "code",
   "execution_count": 27,
   "id": "f967ddc8-3b5e-4d30-a523-3ae2e8a8d1ab",
   "metadata": {},
   "outputs": [
    {
     "data": {
      "text/plain": [
       "array([1.08998145, 0.99913525, 1.02736549])"
      ]
     },
     "execution_count": 27,
     "metadata": {},
     "output_type": "execute_result"
    }
   ],
   "source": [
    "Q"
   ]
  },
  {
   "cell_type": "markdown",
   "id": "e116d8c6-fba1-427a-b599-b9dd95c69066",
   "metadata": {},
   "source": [
    "#### Step-6: Calculation of the utility degree of each alternative\n",
    "![Utility](https://www.linkpicture.com/q/copras_6.png)"
   ]
  },
  {
   "cell_type": "code",
   "execution_count": 28,
   "id": "4e8e0392-8543-4111-a21b-276b28072652",
   "metadata": {},
   "outputs": [
    {
     "data": {
      "text/plain": [
       "array([1.        , 0.91665344, 0.94255319])"
      ]
     },
     "execution_count": 28,
     "metadata": {},
     "output_type": "execute_result"
    }
   ],
   "source": [
    "Q / np.max(Q)"
   ]
  }
 ],
 "metadata": {
  "kernelspec": {
   "display_name": "Python 3 (ipykernel)",
   "language": "python",
   "name": "python3"
  },
  "language_info": {
   "codemirror_mode": {
    "name": "ipython",
    "version": 3
   },
   "file_extension": ".py",
   "mimetype": "text/x-python",
   "name": "python",
   "nbconvert_exporter": "python",
   "pygments_lexer": "ipython3",
   "version": "3.10.8"
  }
 },
 "nbformat": 4,
 "nbformat_minor": 5
}
